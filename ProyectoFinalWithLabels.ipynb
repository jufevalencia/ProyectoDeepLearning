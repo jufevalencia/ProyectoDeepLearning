{
  "nbformat": 4,
  "nbformat_minor": 0,
  "metadata": {
    "colab": {
      "name": "ProyectoFinal.ipynb",
      "provenance": [],
      "collapsed_sections": []
    },
    "kernelspec": {
      "name": "python3",
      "display_name": "Python 3"
    }
  },
  "cells": [
    {
      "cell_type": "code",
      "metadata": {
        "id": "Ia98rLsvOOp7",
        "colab_type": "code",
        "outputId": "051e4e8b-8452-44e2-fba5-003ba7fc5db0",
        "colab": {
          "base_uri": "https://localhost:8080/",
          "height": 122
        }
      },
      "source": [
        "from google.colab import drive\n",
        "drive.mount('/content/drive')"
      ],
      "execution_count": 1,
      "outputs": [
        {
          "output_type": "stream",
          "text": [
            "Go to this URL in a browser: https://accounts.google.com/o/oauth2/auth?client_id=947318989803-6bn6qk8qdgf4n4g3pfee6491hc0brc4i.apps.googleusercontent.com&redirect_uri=urn%3aietf%3awg%3aoauth%3a2.0%3aoob&response_type=code&scope=email%20https%3a%2f%2fwww.googleapis.com%2fauth%2fdocs.test%20https%3a%2f%2fwww.googleapis.com%2fauth%2fdrive%20https%3a%2f%2fwww.googleapis.com%2fauth%2fdrive.photos.readonly%20https%3a%2f%2fwww.googleapis.com%2fauth%2fpeopleapi.readonly\n",
            "\n",
            "Enter your authorization code:\n",
            "··········\n",
            "Mounted at /content/drive\n"
          ],
          "name": "stdout"
        }
      ]
    },
    {
      "cell_type": "code",
      "metadata": {
        "id": "Gmd2DtivQyl2",
        "colab_type": "code",
        "outputId": "9ed06ebf-fe41-4cae-d7cc-bc25151e6052",
        "colab": {
          "base_uri": "https://localhost:8080/",
          "height": 97
        }
      },
      "source": [
        "import tensorflow as tf\n",
        "import matplotlib.pyplot as plt\n",
        "from keras.models import Sequential\n",
        "from keras.layers import Dense, Conv2D, Flatten,MaxPooling2D\n",
        "import matplotlib.pyplot as pltcifar10_data\n",
        "from keras.datasets import mnist\n",
        "from keras.utils import to_categorical\n",
        "import h5py\n",
        "import numpy as np"
      ],
      "execution_count": 2,
      "outputs": [
        {
          "output_type": "display_data",
          "data": {
            "text/html": [
              "<p style=\"color: red;\">\n",
              "The default version of TensorFlow in Colab will soon switch to TensorFlow 2.x.<br>\n",
              "We recommend you <a href=\"https://www.tensorflow.org/guide/migrate\" target=\"_blank\">upgrade</a> now \n",
              "or ensure your notebook will continue to use TensorFlow 1.x via the <code>%tensorflow_version 1.x</code> magic:\n",
              "<a href=\"https://colab.research.google.com/notebooks/tensorflow_version.ipynb\" target=\"_blank\">more info</a>.</p>\n"
            ],
            "text/plain": [
              "<IPython.core.display.HTML object>"
            ]
          },
          "metadata": {
            "tags": []
          }
        },
        {
          "output_type": "stream",
          "text": [
            "Using TensorFlow backend.\n"
          ],
          "name": "stderr"
        }
      ]
    },
    {
      "cell_type": "code",
      "metadata": {
        "id": "w4t7Y4gQTK_v",
        "colab_type": "code",
        "colab": {}
      },
      "source": [
        "import zipfile\n",
        "         \n",
        "fantasy_zip = zipfile.ZipFile('/content/drive/My Drive/Proyecto DeepLearning/Reciclaje.zip')\n",
        "fantasy_zip.extractall('/content/drive/My Drive/Proyecto DeepLearning/')"
      ],
      "execution_count": 0,
      "outputs": []
    },
    {
      "cell_type": "code",
      "metadata": {
        "id": "YMDOF4CTUVK_",
        "colab_type": "code",
        "outputId": "3cfcd3bd-85cb-4d5b-def6-1d18c11a4378",
        "colab": {
          "base_uri": "https://localhost:8080/",
          "height": 340
        }
      },
      "source": [
        "from PIL import Image\n",
        "from sklearn.utils import shuffle\n",
        "import numpy as np\n",
        "import h5py\n",
        "import os\n",
        "import glob\n",
        "import librosa\n",
        "\n",
        "\n",
        "classes_id={\n",
        "              'Aluminium Recyclable':0,\n",
        "              'Banana Organic':1,\n",
        "              'Battery Recyclable':2,\n",
        "              'Glass Recyclable':3,\n",
        "              'Paper Recyclable':4,\n",
        "              'Plastic Recyclable':5,\n",
        "          }\n",
        "def label2num(x):\n",
        "    if x in classes_id:\n",
        "        return classes_id[x]\n",
        "    else:\n",
        "        return(16)\n",
        "parent_dir = \"/content/drive/My Drive/Proyecto DeepLearning/\"\n",
        "file_ext = \"*.jpg\"\n",
        "imgs = []\n",
        "labels = []\n",
        "imSize = 128\n",
        "for sub_dir in os.listdir(parent_dir):\n",
        "    print(sub_dir)\n",
        "    etiqueta = sub_dir\n",
        "    lbl = label2num(etiqueta)\n",
        "    for fn in glob.glob(os.path.join(parent_dir, sub_dir, file_ext)):\n",
        "      try:  \n",
        "        img = Image.open(fn)\n",
        "        if (img.size[0] >= 0):\n",
        "            img=img.resize((imSize,imSize),Image.ANTIALIAS)\n",
        "            im=np.array(img)\n",
        "            imgs.append(im)\n",
        "            labels.append(lbl)\n",
        "      except:\n",
        "        print(fn)\n",
        "imgs = np.asarray(imgs).reshape(len(imgs),imSize,imSize,3)\n",
        "labels = np.asarray(labels)\n",
        "#Mesclar aleatoriamente la base de datos\n",
        "x1, y1 = shuffle(imgs, labels)\n",
        "\n",
        "# O Separarla en entrenamieto y prueba (o si es necesario en validación)\n",
        "samples=y1.size\n",
        "y1=y1.reshape((samples,1))\n",
        "\n",
        "offset = int(x1.shape[0] * 0.80)\n",
        "X_train, Y_train = x1[:offset], y1[:offset]\n",
        "X_test, Y_test = x1[offset:], y1[offset:]\n",
        "Y_test = np.array(Y_test)\n",
        "Y_train = np.array(Y_train)\n",
        "# Se puede adicionar el proceso que requieran para su base de datos\n",
        "\n",
        "# Este sería el proceso para guardar en un formato h5 los datos\n",
        "with h5py.File('/content/drive/My Drive/Proyecto DeepLearning/train_dataset.h5','w') as h5data:\n",
        "    h5data.create_dataset('train_set_x',data=X_train)\n",
        "    h5data.create_dataset('train_set_y',data=Y_train)\n",
        "with h5py.File('/content/drive/My Drive/Proyecto DeepLearning/test_dataset.h5','w') as h5data:\n",
        "    h5data.create_dataset('test_set_x',data=X_test)\n",
        "    h5data.create_dataset('test_set_y',data=Y_test)\n",
        "print(X_train.shape)\n",
        "print(X_test.shape)\n",
        "print(Y_train.shape)\n",
        "print(Y_test.shape)"
      ],
      "execution_count": 0,
      "outputs": [
        {
          "output_type": "stream",
          "text": [
            ".ipynb_checkpoints\n",
            "my_model.h5\n",
            "my_model2.h5\n",
            "Aluminium Recyclable\n",
            "Battery Recyclable\n",
            "Glass Recyclable\n",
            "Paper Recyclable\n",
            "Plastic Recyclable\n",
            "test_dataset2modelos.h5\n",
            "train_dataset2modelos.h5\n",
            "Banana Organic\n",
            "train_dataset1dimension.h5\n",
            "test_dataset1dimension.h5\n",
            "my_model3.h5\n",
            "my_model4.h5\n",
            "(4172, 128, 128, 3)\n",
            "(1043, 128, 128, 3)\n",
            "(4172, 1)\n",
            "(1043, 1)\n"
          ],
          "name": "stdout"
        }
      ]
    },
    {
      "cell_type": "code",
      "metadata": {
        "id": "Q9vVfAPARFWE",
        "colab_type": "code",
        "outputId": "c0980cc8-9a48-40fd-b519-6c9d6753981c",
        "colab": {
          "base_uri": "https://localhost:8080/",
          "height": 302
        }
      },
      "source": [
        "\n",
        "import cv2\n",
        "def resize_np (np_array,shape):\n",
        "    resized=[]\n",
        "    for i in list(np_array):\n",
        "        larger=cv2.resize(i,(shape,shape))\n",
        "        resized.append(np.array(larger))\n",
        "    return (np.array(resized).astype(np.float32))\n",
        "\n",
        "\n",
        "def load_data(n_classes,shape,folder,name,i):\n",
        "    with h5py.File((folder+name+i+'.h5'),'r') as h5data:\n",
        "        ls=list(h5data.keys())\n",
        "#         print(ls)\n",
        "        data=np.array(h5data.get(ls[0])[:])\n",
        "        Y=np.array(h5data.get(ls[1])[:])\n",
        "    \n",
        "    X=resize_np(data,shape)\n",
        "    #X=np.expand_dims(X, axis=-1)\n",
        "     #mostrar un ejemplo\n",
        "    plt.imshow(X[0].astype(int))\n",
        "    im_shape=X[0].shape\n",
        "    return (X/255,Y,im_shape)\n",
        "\n",
        "\n",
        "num_train_files=2 # Número de archivos H5\n",
        "folder='/content/drive/My Drive/Proyecto DeepLearning/'\n",
        "train_name='train_dataset'\n",
        "test_name='test_dataset'\n",
        "n_classes = 6 # total classes\n",
        "shape = 128 # data input shape\n",
        "\n",
        "# Parametros de entrenamiento\n",
        "tf.set_random_seed(1)\n",
        "learning_rate = 0.005\n",
        "training_epochs = 180\n",
        "batch_size = 16\n",
        "\n",
        "\n",
        "\n",
        "#Cargar la base de datos limitando el tamaño de las imágenes\n",
        "X_test,Y_test,im_shape=load_data(n_classes,shape,folder,test_name,'')\n",
        "X_train,Y_train,im_shape=load_data(n_classes,shape,folder,train_name,'')\n",
        "\n",
        "#check image shape\n",
        "print (\"X Shape = \", X_train[0].shape)\n",
        "\n",
        "#one-hot encode target column\n",
        "Y_train = to_categorical(Y_train)\n",
        "Y_test = to_categorical(Y_test)\n",
        "print (\"Y Shape = \", Y_train[0])"
      ],
      "execution_count": 3,
      "outputs": [
        {
          "output_type": "stream",
          "text": [
            "X Shape =  (128, 128, 3)\n",
            "Y Shape =  [1. 0. 0. 0. 0. 0.]\n"
          ],
          "name": "stdout"
        },
        {
          "output_type": "display_data",
          "data": {
            "image/png": "[encoded data removed]",
            "text/plain": [
              "<Figure size 432x288 with 1 Axes>"
            ]
          },
          "metadata": {
            "tags": []
          }
        }
      ]
    },
    {
      "cell_type": "code",
      "metadata": {
        "id": "4o-a-pWxRGFt",
        "colab_type": "code",
        "outputId": "617656b9-2bae-400a-896b-d36a5820771b",
        "colab": {
          "base_uri": "https://localhost:8080/",
          "height": 731
        }
      },
      "source": [
        "#create model\n",
        "#model = Sequential()\n",
        "#add model layers\n",
        "#model.add(Conv2D(64, kernel_size=5, activation=\"relu\", strides=(1, 1), input_shape=(im_shape[0],im_shape[1],im_shape[2])))\n",
        "#model.add(Conv2D(64, kernel_size=5, activation=\"relu\",strides= (1, 1),input_shape=(im_shape[0],im_shape[1],im_shape[2])))\n",
        "#model.add(Conv2D(64, kernel_size=5, activation=\"relu\",strides= (1, 1),input_shape=(im_shape[0],im_shape[1],im_shape[2])))3\n",
        "#model.add(MaxPooling2D(pool_size=(2, 2),strides=(2, 2)))\n",
        "\n",
        "#model.add(Conv2D(64, kernel_size=5, activation=\"relu\", strides=(1, 1), input_shape=(im_shape[0],im_shape[1],im_shape[2])))\n",
        "#model.add(Conv2D(64, kernel_size=5, activation=\"relu\",strides= (1, 1),input_shape=(im_shape[0],im_shape[1],im_shape[2])))\n",
        "#model.add(Conv2D(64, kernel_size=5, activation=\"relu\",strides= (1, 1),input_shape=(im_shape[0],im_shape[1],im_shape[2])))\n",
        "#model.add(MaxPooling2D(pool_size=(2, 2),strides=(2, 2)))\n",
        "\n",
        "#model.add(Conv2D(64, kernel_size=5, activation=\"relu\"))\n",
        "#model.add(Flatten())\n",
        "#model.add(Dense(6, activation=\"softmax\"))\n",
        "\n",
        "#-----------------------------------------------------------------------Modelo 2\n",
        "#from keras.models import Sequential\n",
        "from keras.layers import Dense, Conv2D, MaxPooling2D, Dropout, Flatten\n",
        "  \n",
        "#model = Sequential()\n",
        "#model.add(Conv2D(33, (3, 3), padding='same', activation='relu', input_shape=(im_shape[0],im_shape[1],im_shape[2])))\n",
        "#model.add(Conv2D(32, (3, 3), activation='relu'))\n",
        "#model.add(MaxPooling2D(pool_size=(2, 2)))\n",
        "#model.add(Dropout(0.25))\n",
        "  \n",
        "#model.add(Conv2D(64, (3, 3), padding='same', activation='relu'))\n",
        "#model.add(Conv2D(64, (3, 3), activation='relu'))\n",
        "#model.add(MaxPooling2D(pool_size=(2, 2)))\n",
        "#model.add(Dropout(0.25))\n",
        "  \n",
        "#model.add(Conv2D(64, (3, 3), padding='same', activation='relu'))\n",
        "#model.add(Conv2D(64, (3, 3), activation='relu'))\n",
        "#model.add(MaxPooling2D(pool_size=(2, 2)))\n",
        "#model.add(Dropout(0.25))\n",
        "\n",
        "\n",
        "  \n",
        "#model.add(Flatten())\n",
        "#model.add(Dense(512, activation='relu'))\n",
        "#model.add(Dropout(0.5))\n",
        "#model.add(Dense(6, activation='softmax'))\n",
        "#-----------------------------------------------------------------------Modelo 3 actual \n",
        "model = Sequential()\n",
        "model.add(Conv2D(32, (3, 3), strides = 1, padding = \"same\", activation = \"relu\", input_shape = (im_shape[0], im_shape[1], 3)))\n",
        "model.add(Dropout(0.4))\n",
        "model.add(Conv2D(32, (3, 3), strides = 1, padding = \"same\", activation = \"relu\"))\n",
        "model.add(Dropout(0.4))\n",
        "model.add(MaxPooling2D((2, 2)))\n",
        "\n",
        "model.add(Conv2D(64, (3, 3), strides = 1, padding = \"same\", activation = \"relu\"))\n",
        "model.add(Dropout(0.4))\n",
        "model.add(Conv2D(64, (3, 3), strides = 1, padding = \"same\", activation = \"relu\"))\n",
        "model.add(Dropout(0.4))\n",
        "model.add(MaxPooling2D((2, 2)))\n",
        "\n",
        "model.add(Conv2D(128, (3, 3), strides = 1, padding = \"same\", activation = \"relu\"))\n",
        "model.add(Dropout(0.4))\n",
        "model.add(Conv2D(128, (3, 3), strides = 1, padding = \"same\", activation = \"relu\"))\n",
        "model.add(Dropout(0.4))\n",
        "model.add(MaxPooling2D((2, 2)))\n",
        "\n",
        "model.add(Flatten())\n",
        "model.add(Dense(6, activation = \"softmax\"))\n",
        "\n",
        "model.compile(optimizer = \"adam\", loss = \"sparse_categorical_crossentropy\", metrics = [\"accuracy\"])\n",
        "\n",
        "model.summary()\n",
        "\n"
      ],
      "execution_count": 0,
      "outputs": [
        {
          "output_type": "stream",
          "text": [
            "Model: \"sequential_3\"\n",
            "_________________________________________________________________\n",
            "Layer (type)                 Output Shape              Param #   \n",
            "=================================================================\n",
            "conv2d_8 (Conv2D)            (None, 128, 128, 32)      896       \n",
            "_________________________________________________________________\n",
            "dropout_7 (Dropout)          (None, 128, 128, 32)      0         \n",
            "_________________________________________________________________\n",
            "conv2d_9 (Conv2D)            (None, 128, 128, 32)      9248      \n",
            "_________________________________________________________________\n",
            "dropout_8 (Dropout)          (None, 128, 128, 32)      0         \n",
            "_________________________________________________________________\n",
            "max_pooling2d_4 (MaxPooling2 (None, 64, 64, 32)        0         \n",
            "_________________________________________________________________\n",
            "conv2d_10 (Conv2D)           (None, 64, 64, 64)        18496     \n",
            "_________________________________________________________________\n",
            "dropout_9 (Dropout)          (None, 64, 64, 64)        0         \n",
            "_________________________________________________________________\n",
            "conv2d_11 (Conv2D)           (None, 64, 64, 64)        36928     \n",
            "_________________________________________________________________\n",
            "dropout_10 (Dropout)         (None, 64, 64, 64)        0         \n",
            "_________________________________________________________________\n",
            "max_pooling2d_5 (MaxPooling2 (None, 32, 32, 64)        0         \n",
            "_________________________________________________________________\n",
            "conv2d_12 (Conv2D)           (None, 32, 32, 128)       73856     \n",
            "_________________________________________________________________\n",
            "dropout_11 (Dropout)         (None, 32, 32, 128)       0         \n",
            "_________________________________________________________________\n",
            "conv2d_13 (Conv2D)           (None, 32, 32, 128)       147584    \n",
            "_________________________________________________________________\n",
            "dropout_12 (Dropout)         (None, 32, 32, 128)       0         \n",
            "_________________________________________________________________\n",
            "max_pooling2d_6 (MaxPooling2 (None, 16, 16, 128)       0         \n",
            "_________________________________________________________________\n",
            "flatten_2 (Flatten)          (None, 32768)             0         \n",
            "_________________________________________________________________\n",
            "dense_2 (Dense)              (None, 6)                 196614    \n",
            "=================================================================\n",
            "Total params: 483,622\n",
            "Trainable params: 483,622\n",
            "Non-trainable params: 0\n",
            "_________________________________________________________________\n"
          ],
          "name": "stdout"
        }
      ]
    },
    {
      "cell_type": "code",
      "metadata": {
        "id": "IqFjNFXWZfP6",
        "colab_type": "code",
        "outputId": "fccc1f1c-e115-46bd-f3e8-7850e9a1315c",
        "colab": {
          "base_uri": "https://localhost:8080/",
          "height": 768
        }
      },
      "source": [
        "#compile model using accuracy to measure model performance\n",
        "model.compile(optimizer='adam', loss='categorical_crossentropy', metrics=['accuracy'])\n",
        "#train the model\n",
        "model.fit(X_train,  Y_train, validation_data=(X_test, Y_test), epochs=15)\n",
        "#predict first 4 images in the test set\n",
        "print(model.predict(X_test[:4]))\n",
        "#actual results for first 4 images in test set\n",
        "print(Y_test[:4])"
      ],
      "execution_count": 0,
      "outputs": [
        {
          "output_type": "stream",
          "text": [
            "Train on 4172 samples, validate on 1043 samples\n",
            "Epoch 1/15\n",
            "4172/4172 [==============================] - 517s 124ms/step - loss: 0.2922 - acc: 0.8929 - val_loss: 1.3650 - val_acc: 0.5407\n",
            "Epoch 2/15\n",
            "4172/4172 [==============================] - 516s 124ms/step - loss: 0.2285 - acc: 0.9161 - val_loss: 1.4727 - val_acc: 0.5570\n",
            "Epoch 3/15\n",
            "4172/4172 [==============================] - 510s 122ms/step - loss: 0.2230 - acc: 0.9190 - val_loss: 1.2859 - val_acc: 0.5839\n",
            "Epoch 4/15\n",
            "4172/4172 [==============================] - 506s 121ms/step - loss: 0.2887 - acc: 0.9003 - val_loss: 1.3065 - val_acc: 0.5475\n",
            "Epoch 5/15\n",
            "4172/4172 [==============================] - 507s 122ms/step - loss: 0.2117 - acc: 0.9221 - val_loss: 1.3551 - val_acc: 0.5599\n",
            "Epoch 6/15\n",
            "4172/4172 [==============================] - 517s 124ms/step - loss: 0.2035 - acc: 0.9302 - val_loss: 1.5450 - val_acc: 0.5360\n",
            "Epoch 7/15\n",
            "4172/4172 [==============================] - 511s 122ms/step - loss: 0.2494 - acc: 0.9159 - val_loss: 1.4010 - val_acc: 0.5465\n",
            "Epoch 8/15\n",
            "4172/4172 [==============================] - 531s 127ms/step - loss: 0.2181 - acc: 0.9233 - val_loss: 1.3952 - val_acc: 0.5599\n",
            "Epoch 9/15\n",
            "4172/4172 [==============================] - 542s 130ms/step - loss: 0.2041 - acc: 0.9331 - val_loss: 1.2631 - val_acc: 0.5935\n",
            "Epoch 10/15\n",
            "4172/4172 [==============================] - 498s 119ms/step - loss: 0.1925 - acc: 0.9355 - val_loss: 1.3784 - val_acc: 0.5638\n",
            "Epoch 11/15\n",
            "4172/4172 [==============================] - 502s 120ms/step - loss: 0.1762 - acc: 0.9391 - val_loss: 1.4959 - val_acc: 0.5829\n",
            "Epoch 12/15\n",
            "4172/4172 [==============================] - 511s 122ms/step - loss: 0.2019 - acc: 0.9379 - val_loss: 1.1613 - val_acc: 0.6012\n",
            "Epoch 13/15\n",
            "4172/4172 [==============================] - 520s 125ms/step - loss: 0.1374 - acc: 0.9518 - val_loss: 1.4171 - val_acc: 0.5829\n",
            "Epoch 14/15\n",
            "4172/4172 [==============================] - 527s 126ms/step - loss: 0.1525 - acc: 0.9518 - val_loss: 1.8390 - val_acc: 0.5235\n",
            "Epoch 15/15\n",
            "4172/4172 [==============================] - 522s 125ms/step - loss: 0.1256 - acc: 0.9569 - val_loss: 1.5615 - val_acc: 0.5743\n",
            "[[5.2059451e-03 6.5482354e-08 2.4655556e-05 2.0936023e-01 6.8274218e-01\n",
            "  1.0266692e-01]\n",
            " [1.6489294e-01 3.1005093e-05 3.2377800e-05 9.1170587e-02 5.5200285e-01\n",
            "  1.9187029e-01]\n",
            " [4.0543032e-06 2.2606112e-06 6.9116004e-06 9.9883682e-01 3.4069897e-05\n",
            "  1.1158838e-03]\n",
            " [2.2150159e-02 2.7016443e-07 7.4964286e-05 9.4381064e-01 2.1542119e-02\n",
            "  1.2421807e-02]]\n",
            "[[0. 0. 1. 0. 0. 0.]\n",
            " [0. 0. 0. 0. 1. 0.]\n",
            " [0. 0. 1. 0. 0. 0.]\n",
            " [0. 0. 0. 1. 0. 0.]]\n"
          ],
          "name": "stdout"
        }
      ]
    },
    {
      "cell_type": "code",
      "metadata": {
        "id": "XjeZrM-b4JIB",
        "colab_type": "code",
        "outputId": "022bb7e8-8b25-4ddd-b399-23d32ee2cbfd",
        "colab": {
          "base_uri": "https://localhost:8080/",
          "height": 527
        }
      },
      "source": [
        "print(model.predict(X_test[:10]))\n",
        "#actual results for first 4 images in test set\n",
        "print(Y_test[:10])"
      ],
      "execution_count": 0,
      "outputs": [
        {
          "output_type": "stream",
          "text": [
            "[[1.15404829e-01 1.98520742e-10 4.33657988e-06 1.15210460e-04\n",
            "  2.32629403e-02 8.61212730e-01]\n",
            " [1.66939218e-02 7.08984317e-06 2.15884847e-05 3.10211530e-04\n",
            "  7.07937539e-01 2.75029719e-01]\n",
            " [4.17251336e-08 3.10803583e-09 2.54298720e-06 9.00821745e-01\n",
            "  9.71853510e-02 1.99027406e-03]\n",
            " [6.02740038e-05 3.45869722e-07 2.07425473e-04 8.89682412e-01\n",
            "  4.88950491e-07 1.10049024e-01]\n",
            " [1.23294825e-07 9.74914932e-15 2.54529118e-06 9.06296730e-01\n",
            "  1.34002830e-05 9.36871842e-02]\n",
            " [1.83317898e-05 2.94565199e-18 5.78941617e-10 4.11095698e-06\n",
            "  4.45493715e-05 9.99933004e-01]\n",
            " [9.99365151e-01 3.33795630e-11 3.63002570e-08 4.66159283e-04\n",
            "  1.66937971e-04 1.82507063e-06]\n",
            " [5.10961065e-13 8.72262603e-14 6.89089341e-10 9.99999523e-01\n",
            "  1.00328433e-10 4.66422449e-07]\n",
            " [1.61868774e-09 1.23043645e-10 2.04896537e-06 8.60568285e-01\n",
            "  1.01369926e-06 1.39428675e-01]\n",
            " [5.61418012e-03 2.52695208e-05 1.75920533e-04 5.57569321e-04\n",
            "  9.38557982e-01 5.50690778e-02]]\n",
            "[[0. 0. 1. 0. 0. 0.]\n",
            " [0. 0. 0. 0. 1. 0.]\n",
            " [0. 0. 1. 0. 0. 0.]\n",
            " [0. 0. 0. 1. 0. 0.]\n",
            " [0. 0. 0. 0. 0. 1.]\n",
            " [0. 0. 0. 1. 0. 0.]\n",
            " [1. 0. 0. 0. 0. 0.]\n",
            " [0. 0. 0. 1. 0. 0.]\n",
            " [0. 0. 0. 1. 0. 0.]\n",
            " [0. 0. 0. 0. 0. 1.]]\n"
          ],
          "name": "stdout"
        }
      ]
    },
    {
      "cell_type": "code",
      "metadata": {
        "id": "g_v3SSPq5SNE",
        "colab_type": "code",
        "colab": {}
      },
      "source": [
        "\n",
        "#Con esto se guarda el modelo actual con  el accuracy actual \n",
        "#from keras.models import load_model\n",
        "\n",
        "#model.save('/content/drive/My Drive/Proyecto DeepLearning/my_model5.h5')  # creates a HDF5 file 'my_model.h5'\n",
        "#del model  # deletes the existing model"
      ],
      "execution_count": 0,
      "outputs": []
    },
    {
      "cell_type": "code",
      "metadata": {
        "id": "KK9wJTZjSjGq",
        "colab_type": "code",
        "outputId": "9c0e8e0b-1edc-42fd-ad22-86f161651df5",
        "colab": {
          "base_uri": "https://localhost:8080/",
          "height": 1000
        }
      },
      "source": [
        "\n",
        "#Con esto se carga el modelo guardado\n",
        "from keras.models import load_model\n",
        "model = load_model('/content/drive/My Drive/Proyecto DeepLearning/my_model5.h5')"
      ],
      "execution_count": 7,
      "outputs": [
        {
          "output_type": "stream",
          "text": [
            "WARNING:tensorflow:From /usr/local/lib/python3.6/dist-packages/keras/backend/tensorflow_backend.py:541: The name tf.placeholder is deprecated. Please use tf.compat.v1.placeholder instead.\n",
            "\n"
          ],
          "name": "stdout"
        },
        {
          "output_type": "stream",
          "text": [
            "WARNING:tensorflow:From /usr/local/lib/python3.6/dist-packages/keras/backend/tensorflow_backend.py:541: The name tf.placeholder is deprecated. Please use tf.compat.v1.placeholder instead.\n",
            "\n"
          ],
          "name": "stderr"
        },
        {
          "output_type": "stream",
          "text": [
            "WARNING:tensorflow:From /usr/local/lib/python3.6/dist-packages/keras/backend/tensorflow_backend.py:4432: The name tf.random_uniform is deprecated. Please use tf.random.uniform instead.\n",
            "\n"
          ],
          "name": "stdout"
        },
        {
          "output_type": "stream",
          "text": [
            "WARNING:tensorflow:From /usr/local/lib/python3.6/dist-packages/keras/backend/tensorflow_backend.py:4432: The name tf.random_uniform is deprecated. Please use tf.random.uniform instead.\n",
            "\n"
          ],
          "name": "stderr"
        },
        {
          "output_type": "stream",
          "text": [
            "WARNING:tensorflow:From /usr/local/lib/python3.6/dist-packages/keras/backend/tensorflow_backend.py:66: The name tf.get_default_graph is deprecated. Please use tf.compat.v1.get_default_graph instead.\n",
            "\n"
          ],
          "name": "stdout"
        },
        {
          "output_type": "stream",
          "text": [
            "WARNING:tensorflow:From /usr/local/lib/python3.6/dist-packages/keras/backend/tensorflow_backend.py:66: The name tf.get_default_graph is deprecated. Please use tf.compat.v1.get_default_graph instead.\n",
            "\n"
          ],
          "name": "stderr"
        },
        {
          "output_type": "stream",
          "text": [
            "WARNING:tensorflow:From /usr/local/lib/python3.6/dist-packages/keras/backend/tensorflow_backend.py:148: The name tf.placeholder_with_default is deprecated. Please use tf.compat.v1.placeholder_with_default instead.\n",
            "\n"
          ],
          "name": "stdout"
        },
        {
          "output_type": "stream",
          "text": [
            "WARNING:tensorflow:From /usr/local/lib/python3.6/dist-packages/keras/backend/tensorflow_backend.py:148: The name tf.placeholder_with_default is deprecated. Please use tf.compat.v1.placeholder_with_default instead.\n",
            "\n"
          ],
          "name": "stderr"
        },
        {
          "output_type": "stream",
          "text": [
            "WARNING:tensorflow:From /usr/local/lib/python3.6/dist-packages/keras/backend/tensorflow_backend.py:4267: The name tf.nn.max_pool is deprecated. Please use tf.nn.max_pool2d instead.\n",
            "\n"
          ],
          "name": "stdout"
        },
        {
          "output_type": "stream",
          "text": [
            "WARNING:tensorflow:From /usr/local/lib/python3.6/dist-packages/keras/backend/tensorflow_backend.py:4267: The name tf.nn.max_pool is deprecated. Please use tf.nn.max_pool2d instead.\n",
            "\n"
          ],
          "name": "stderr"
        },
        {
          "output_type": "stream",
          "text": [
            "WARNING:tensorflow:From /usr/local/lib/python3.6/dist-packages/keras/backend/tensorflow_backend.py:190: The name tf.get_default_session is deprecated. Please use tf.compat.v1.get_default_session instead.\n",
            "\n"
          ],
          "name": "stdout"
        },
        {
          "output_type": "stream",
          "text": [
            "WARNING:tensorflow:From /usr/local/lib/python3.6/dist-packages/keras/backend/tensorflow_backend.py:190: The name tf.get_default_session is deprecated. Please use tf.compat.v1.get_default_session instead.\n",
            "\n"
          ],
          "name": "stderr"
        },
        {
          "output_type": "stream",
          "text": [
            "WARNING:tensorflow:From /usr/local/lib/python3.6/dist-packages/keras/backend/tensorflow_backend.py:197: The name tf.ConfigProto is deprecated. Please use tf.compat.v1.ConfigProto instead.\n",
            "\n"
          ],
          "name": "stdout"
        },
        {
          "output_type": "stream",
          "text": [
            "WARNING:tensorflow:From /usr/local/lib/python3.6/dist-packages/keras/backend/tensorflow_backend.py:197: The name tf.ConfigProto is deprecated. Please use tf.compat.v1.ConfigProto instead.\n",
            "\n"
          ],
          "name": "stderr"
        },
        {
          "output_type": "stream",
          "text": [
            "WARNING:tensorflow:From /usr/local/lib/python3.6/dist-packages/keras/backend/tensorflow_backend.py:203: The name tf.Session is deprecated. Please use tf.compat.v1.Session instead.\n",
            "\n"
          ],
          "name": "stdout"
        },
        {
          "output_type": "stream",
          "text": [
            "WARNING:tensorflow:From /usr/local/lib/python3.6/dist-packages/keras/backend/tensorflow_backend.py:203: The name tf.Session is deprecated. Please use tf.compat.v1.Session instead.\n",
            "\n"
          ],
          "name": "stderr"
        },
        {
          "output_type": "stream",
          "text": [
            "WARNING:tensorflow:From /usr/local/lib/python3.6/dist-packages/keras/backend/tensorflow_backend.py:207: The name tf.global_variables is deprecated. Please use tf.compat.v1.global_variables instead.\n",
            "\n"
          ],
          "name": "stdout"
        },
        {
          "output_type": "stream",
          "text": [
            "WARNING:tensorflow:From /usr/local/lib/python3.6/dist-packages/keras/backend/tensorflow_backend.py:207: The name tf.global_variables is deprecated. Please use tf.compat.v1.global_variables instead.\n",
            "\n"
          ],
          "name": "stderr"
        },
        {
          "output_type": "stream",
          "text": [
            "WARNING:tensorflow:From /usr/local/lib/python3.6/dist-packages/keras/backend/tensorflow_backend.py:216: The name tf.is_variable_initialized is deprecated. Please use tf.compat.v1.is_variable_initialized instead.\n",
            "\n"
          ],
          "name": "stdout"
        },
        {
          "output_type": "stream",
          "text": [
            "WARNING:tensorflow:From /usr/local/lib/python3.6/dist-packages/keras/backend/tensorflow_backend.py:216: The name tf.is_variable_initialized is deprecated. Please use tf.compat.v1.is_variable_initialized instead.\n",
            "\n"
          ],
          "name": "stderr"
        },
        {
          "output_type": "stream",
          "text": [
            "WARNING:tensorflow:From /usr/local/lib/python3.6/dist-packages/keras/backend/tensorflow_backend.py:223: The name tf.variables_initializer is deprecated. Please use tf.compat.v1.variables_initializer instead.\n",
            "\n"
          ],
          "name": "stdout"
        },
        {
          "output_type": "stream",
          "text": [
            "WARNING:tensorflow:From /usr/local/lib/python3.6/dist-packages/keras/backend/tensorflow_backend.py:223: The name tf.variables_initializer is deprecated. Please use tf.compat.v1.variables_initializer instead.\n",
            "\n"
          ],
          "name": "stderr"
        },
        {
          "output_type": "stream",
          "text": [
            "WARNING:tensorflow:From /usr/local/lib/python3.6/dist-packages/keras/optimizers.py:793: The name tf.train.Optimizer is deprecated. Please use tf.compat.v1.train.Optimizer instead.\n",
            "\n"
          ],
          "name": "stdout"
        },
        {
          "output_type": "stream",
          "text": [
            "WARNING:tensorflow:From /usr/local/lib/python3.6/dist-packages/keras/optimizers.py:793: The name tf.train.Optimizer is deprecated. Please use tf.compat.v1.train.Optimizer instead.\n",
            "\n"
          ],
          "name": "stderr"
        },
        {
          "output_type": "stream",
          "text": [
            "WARNING:tensorflow:From /usr/local/lib/python3.6/dist-packages/keras/backend/tensorflow_backend.py:3576: The name tf.log is deprecated. Please use tf.math.log instead.\n",
            "\n"
          ],
          "name": "stdout"
        },
        {
          "output_type": "stream",
          "text": [
            "WARNING:tensorflow:From /usr/local/lib/python3.6/dist-packages/keras/backend/tensorflow_backend.py:3576: The name tf.log is deprecated. Please use tf.math.log instead.\n",
            "\n"
          ],
          "name": "stderr"
        },
        {
          "output_type": "stream",
          "text": [
            "WARNING:tensorflow:From /usr/local/lib/python3.6/dist-packages/keras/backend/tensorflow_backend.py:1033: The name tf.assign_add is deprecated. Please use tf.compat.v1.assign_add instead.\n",
            "\n"
          ],
          "name": "stdout"
        },
        {
          "output_type": "stream",
          "text": [
            "WARNING:tensorflow:From /usr/local/lib/python3.6/dist-packages/keras/backend/tensorflow_backend.py:1033: The name tf.assign_add is deprecated. Please use tf.compat.v1.assign_add instead.\n",
            "\n"
          ],
          "name": "stderr"
        },
        {
          "output_type": "stream",
          "text": [
            "WARNING:tensorflow:From /usr/local/lib/python3.6/dist-packages/keras/backend/tensorflow_backend.py:1020: The name tf.assign is deprecated. Please use tf.compat.v1.assign instead.\n",
            "\n"
          ],
          "name": "stdout"
        },
        {
          "output_type": "stream",
          "text": [
            "WARNING:tensorflow:From /usr/local/lib/python3.6/dist-packages/keras/backend/tensorflow_backend.py:1020: The name tf.assign is deprecated. Please use tf.compat.v1.assign instead.\n",
            "\n"
          ],
          "name": "stderr"
        }
      ]
    },
    {
      "cell_type": "code",
      "metadata": {
        "id": "vLGInu62UqKE",
        "colab_type": "code",
        "outputId": "4f8ebd54-1b7a-4266-c949-7e8452d8a604",
        "colab": {
          "base_uri": "https://localhost:8080/",
          "height": 153
        }
      },
      "source": [
        "print(model.predict(X_test[:4]))"
      ],
      "execution_count": 0,
      "outputs": [
        {
          "output_type": "stream",
          "text": [
            "[[5.8327514e-01 2.9815178e-04 5.9786323e-02 1.6365373e-01 1.8010244e-01\n",
            "  1.2884251e-02]\n",
            " [3.1556224e-03 2.9476714e-06 1.7854227e-05 6.6196904e-02 9.3047553e-01\n",
            "  1.5123458e-04]\n",
            " [7.7196318e-01 3.9520683e-06 1.8879083e-01 3.8828790e-02 1.4942548e-04\n",
            "  2.6377896e-04]\n",
            " [1.6757032e-01 3.7099239e-03 1.6910747e-01 6.0104555e-01 4.1088916e-02\n",
            "  1.7477769e-02]]\n"
          ],
          "name": "stdout"
        }
      ]
    },
    {
      "cell_type": "code",
      "metadata": {
        "id": "lCD47xRDUkKi",
        "colab_type": "code",
        "outputId": "315ad939-7484-4b08-f039-53655452bd4e",
        "colab": {
          "base_uri": "https://localhost:8080/",
          "height": 51
        }
      },
      "source": [
        "#Con esto probamos el modelo con una imagen nueva\n",
        "\n",
        "from keras.models import load_model\n",
        "from keras.preprocessing import image\n",
        "import numpy as np\n",
        "\n",
        "\n",
        "Labels=['Aluminium Recyclable','Banana Organic','Battery Recyclable','Glass Recyclable','Paper Recyclable','Plastic Recyclable']\n",
        "# dimensions of our images    -----   are these then grayscale (black and white)?\n",
        "img_width, img_height,channels = 128, 128,3\n",
        "\n",
        "# load the model we saved\n",
        "#model = load_model('model.h5')\n",
        "\n",
        "# Get test image ready\n",
        "test_image = image.load_img('/content/drive/My Drive/Proyecto DeepLearning/Aluminium Recyclable/Aluminio1009.jpg', target_size=(128, 128, 3))\n",
        "test_image = image.img_to_array(test_image)\n",
        "test_image = np.expand_dims(test_image, axis=0)\n",
        "\n",
        "test_image = test_image.reshape(-1,img_width, img_height,3)    # Ambiguity!\n",
        "# Should this instead be: test_image.reshape(img_width, img_height, 3) ??\n",
        "\n",
        "result = model.predict(test_image, batch_size=1)\n",
        "Prediction=result.argmax()\n",
        "print(Labels[Prediction])\n",
        "print (result)"
      ],
      "execution_count": 9,
      "outputs": [
        {
          "output_type": "stream",
          "text": [
            "Aluminium Recyclable\n",
            "[[1. 0. 0. 0. 0. 0.]]\n"
          ],
          "name": "stdout"
        }
      ]
    },
    {
      "cell_type": "markdown",
      "metadata": {
        "id": "5vLDqg3rwE4y",
        "colab_type": "text"
      },
      "source": [
        ""
      ]
    }
  ]
}